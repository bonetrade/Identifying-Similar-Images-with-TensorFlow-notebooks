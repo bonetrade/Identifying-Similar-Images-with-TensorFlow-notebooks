{
 "cells": [
  {
   "cell_type": "markdown",
   "metadata": {},
   "source": [
    "ok, so: have a bunch of images in \\images\n",
    "\n",
    "then run duhaime's modified script to get that second but last layer, and write it to the new `image_vectors` dir."
   ]
  },
  {
   "cell_type": "code",
   "execution_count": null,
   "metadata": {
    "collapsed": true
   },
   "outputs": [],
   "source": [
    "!python classify_images.py \"images/*\""
   ]
  },
  {
   "cell_type": "markdown",
   "metadata": {},
   "source": [
    "now cluster with his nearest neighbours script. \"Each of those outfiles will identify the 30 images most similar to the given image. To search for more or fewer nearest neighbors, one just needs to update the n_nearest_neighbors variable in the nearest neighbors script.\""
   ]
  },
  {
   "cell_type": "code",
   "execution_count": null,
   "metadata": {
    "collapsed": true
   },
   "outputs": [],
   "source": [
    "!python cluster_vectors.py"
   ]
  },
  {
   "cell_type": "markdown",
   "metadata": {},
   "source": [
    "and now we run the t-sne clustering script"
   ]
  },
  {
   "cell_type": "code",
   "execution_count": null,
   "metadata": {
    "collapsed": true
   },
   "outputs": [],
   "source": [
    "# ok let's project this stuff!\n",
    "from sklearn.manifold import TSNE\n",
    "import numpy as np\n",
    "import glob, json, os\n",
    "\n",
    "# create datastores\n",
    "vector_files = []\n",
    "image_vectors = []\n",
    "chart_data = []\n",
    "# note the maximum here - change up for total number you've got!\n",
    "maximum_imgs = 500\n",
    "\n",
    "# build a list of image vectors\n",
    "vector_files = glob.glob('image_vectors/*.npz')[:maximum_imgs]\n",
    "for c, i in enumerate(vector_files):\n",
    "  image_vectors.append(np.loadtxt(i))\n",
    "  print(' * loaded', c, 'of', len(vector_files), 'image vectors')\n",
    "\n",
    "# build the tsne model on the image vectors\n",
    "print('building tsne model')\n",
    "model = TSNE(n_components=2, random_state=0)\n",
    "np.set_printoptions(suppress=True)\n",
    "fit_model = model.fit_transform( np.array(image_vectors) )\n",
    " \n",
    "# store the coordinates of each image in the chart data\n",
    "for c, i in enumerate(fit_model):\n",
    "  image_name = os.path.basename(vector_files[c]).replace('.npz', '') \n",
    "  chart_data.append({\n",
    "    'image': os.path.join('images', image_name),\n",
    "    'x': i[0],\n",
    "    'y': i[1]\n",
    "  })"
   ]
  },
  {
   "cell_type": "markdown",
   "metadata": {},
   "source": [
    "then we write the `chart_data` to file."
   ]
  },
  {
   "cell_type": "code",
   "execution_count": null,
   "metadata": {
    "collapsed": true
   },
   "outputs": [],
   "source": [
    "thefile = open('image_tsne_projections.json', 'w')\n",
    "for item in chart_data:\n",
    "  thefile.write(\"%s\\n\" % item)\n",
    "file.close()"
   ]
  }
 ],
 "metadata": {
  "kernelspec": {
   "display_name": "duhaime",
   "language": "python",
   "name": "duhaime"
  },
  "language_info": {
   "codemirror_mode": {
    "name": "ipython",
    "version": 3
   },
   "file_extension": ".py",
   "mimetype": "text/x-python",
   "name": "python",
   "nbconvert_exporter": "python",
   "pygments_lexer": "ipython3",
   "version": "3.6.1"
  }
 },
 "nbformat": 4,
 "nbformat_minor": 2
}
